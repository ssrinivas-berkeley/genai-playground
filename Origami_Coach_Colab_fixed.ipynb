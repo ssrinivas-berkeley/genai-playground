{
 "cells": [
  {
   "cell_type": "markdown",
   "id": "86c698f5",
   "metadata": {},
   "source": [
    "\n",
    "# 🧻 Origami Coach — Fold Guidance (Colab, fixed)\n",
    "\n",
    "Use webcam or upload a photo of a sheet of paper.\n",
    "The notebook detects the largest paper contour, checks alignment/straightness, and overlays hints.\n"
   ]
  },
  {
   "cell_type": "markdown",
   "id": "e5d39cea",
   "metadata": {},
   "source": [
    "## 🛠️ Setup"
   ]
  },
  {
   "cell_type": "code",
   "execution_count": null,
   "id": "db8a3b32",
   "metadata": {},
   "outputs": [],
   "source": [
    "\n",
    "!pip -q install --upgrade opencv-python-headless==4.10.0.84 Pillow==10.4.0 numpy==2.0.2\n",
    "import cv2, numpy as np, io, base64, os\n",
    "from PIL import Image, ImageDraw, ImageFont\n",
    "from IPython.display import display, Javascript\n",
    "from google.colab import files, output\n",
    "os.makedirs(\"results\", exist_ok=True)\n",
    "print(\"✅ Installed.\")\n"
   ]
  },
  {
   "cell_type": "markdown",
   "id": "dccf3148",
   "metadata": {},
   "source": [
    "## 📷 Capture from webcam (or skip)"
   ]
  },
  {
   "cell_type": "code",
   "execution_count": null,
   "id": "e07d65ad",
   "metadata": {},
   "outputs": [],
   "source": [
    "\n",
    "js = '''\n",
    "async function capture() {\n",
    "  const stream = await navigator.mediaDevices.getUserMedia({video:true});\n",
    "  const video = document.createElement('video');\n",
    "  video.srcObject = stream; await video.play();\n",
    "  await new Promise(r=>setTimeout(r, 600));\n",
    "  const canvas = document.createElement('canvas');\n",
    "  canvas.width = video.videoWidth; canvas.height = video.videoHeight;\n",
    "  canvas.getContext('2d').drawImage(video, 0, 0);\n",
    "  stream.getTracks().forEach(t => t.stop());\n",
    "  const b64 = canvas.toDataURL('image/png');\n",
    "  return b64;\n",
    "}\n",
    "''';\n",
    "display(Javascript(js))\n",
    "print(\"Run the next cell to capture frame.\")"
   ]
  },
  {
   "cell_type": "code",
   "execution_count": null,
   "id": "eee51355",
   "metadata": {},
   "outputs": [],
   "source": [
    "\n",
    "from google.colab import output\n",
    "b64 = output.eval_js(\"capture()\")\n",
    "img_path = None\n",
    "if b64 and b64.startswith(\"data:image\"):\n",
    "    header, data = b64.split(',',1)\n",
    "    img = Image.open(io.BytesIO(base64.b64decode(data))).convert(\"RGB\")\n",
    "    img.save(\"results/capture.png\"); img_path = \"results/capture.png\"\n",
    "    display(img)\n",
    "else:\n",
    "    print(\"No webcam frame captured.\")\n"
   ]
  },
  {
   "cell_type": "markdown",
   "id": "7be05d05",
   "metadata": {},
   "source": [
    "## 📁 Or upload an image"
   ]
  },
  {
   "cell_type": "code",
   "execution_count": null,
   "id": "aae56d3c",
   "metadata": {},
   "outputs": [],
   "source": [
    "\n",
    "uploaded = files.upload()\n",
    "for k in uploaded:\n",
    "    img_path = k\n",
    "    break\n",
    "if not img_path:\n",
    "    raise SystemExit(\"No image provided.\")\n",
    "print(\"Using:\", img_path)\n"
   ]
  },
  {
   "cell_type": "markdown",
   "id": "1b5426f5",
   "metadata": {},
   "source": [
    "## 🧠 Analyze fold alignment"
   ]
  },
  {
   "cell_type": "code",
   "execution_count": null,
   "id": "d538e41f",
   "metadata": {},
   "outputs": [],
   "source": [
    "\n",
    "import numpy as np, cv2, os\n",
    "from PIL import Image\n",
    "\n",
    "def analyze_fold(path):\n",
    "    img = cv2.imread(path)\n",
    "    if img is None:\n",
    "        # Fallback reading via PIL\n",
    "        im = Image.open(path).convert(\"RGB\")\n",
    "        img = cv2.cvtColor(np.array(im), cv2.COLOR_RGB2BGR)\n",
    "    orig = img.copy()\n",
    "    gray = cv2.cvtColor(img, cv2.COLOR_BGR2GRAY)\n",
    "    blur = cv2.GaussianBlur(gray, (5,5), 0)\n",
    "    edges = cv2.Canny(blur, 50, 150)\n",
    "\n",
    "    contours, _ = cv2.findContours(edges, cv2.RETR_EXTERNAL, cv2.CHAIN_APPROX_SIMPLE)\n",
    "    if not contours:\n",
    "        return None, \"No contours found.\"\n",
    "    c = max(contours, key=cv2.contourArea)\n",
    "    rect = cv2.minAreaRect(c)\n",
    "    box = cv2.boxPoints(rect).astype(int)\n",
    "\n",
    "    lines = cv2.HoughLines(edges, 1, np.pi/180, threshold=150)\n",
    "    straightness = 0\n",
    "    if lines is not None:\n",
    "        for rho, theta in lines[:,0,:]:\n",
    "            deg = np.degrees(theta) % 180\n",
    "            if min(abs(deg-0), abs(deg-90)) < 10:\n",
    "                straightness += 1\n",
    "\n",
    "    h, w = gray.shape\n",
    "    left = gray[:, :w//2]\n",
    "    right = np.fliplr(gray[:, w//2:])\n",
    "    sym = (np.corrcoef(left.flatten(), right.flatten())[0,1] + 1)/2\n",
    "\n",
    "    tips = []\n",
    "    if straightness < 5: tips.append(\"Crease more firmly — edges not straight.\")\n",
    "    angle = rect[2]\n",
    "    if abs(angle) > 10: tips.append(\"Rotate or align paper — it's tilted.\")\n",
    "    if sym < 0.7: tips.append(\"Fold halves evenly — alignment off.\")\n",
    "    if not tips: tips = [\"Looks good! Proceed to the next fold.\"]\n",
    "\n",
    "    overlay = orig.copy()\n",
    "    cv2.drawContours(overlay, [box], 0, (0,255,0), 3)\n",
    "    out = cv2.addWeighted(orig, 0.8, overlay, 0.2, 0)\n",
    "    cv2.putText(out, f\"Straight lines: {straightness}\", (20,40), cv2.FONT_HERSHEY_SIMPLEX, 1, (255,255,255), 2)\n",
    "    cv2.putText(out, f\"Symmetry: {sym:.2f}\", (20,80), cv2.FONT_HERSHEY_SIMPLEX, 1, (255,255,255), 2)\n",
    "\n",
    "    out_path = \"results/analysis.png\"\n",
    "    cv2.imwrite(out_path, out)\n",
    "    return out_path, \"\\n\".join(tips)\n",
    "\n",
    "out_img, tips = analyze_fold(img_path)\n",
    "from IPython.display import Image as IPyImage, display\n",
    "display(IPyImage(filename=out_img))\n",
    "print(\"Hints:\\n\", tips)\n"
   ]
  }
 ],
 "metadata": {},
 "nbformat": 4,
 "nbformat_minor": 5
}