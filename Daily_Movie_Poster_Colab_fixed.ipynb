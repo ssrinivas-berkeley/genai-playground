{
 "cells": [
  {
   "cell_type": "markdown",
   "id": "820faed6",
   "metadata": {},
   "source": [
    "\n",
    "# 🎟️ Daily Movie Poster (Colab, compat-fixed)\n",
    "\n",
    "Upload 2–3 photos and a title/tagline; get a glossy poster with color grading, vignette, and typography.\n"
   ]
  },
  {
   "cell_type": "markdown",
   "id": "f1072283",
   "metadata": {},
   "source": [
    "## 🛠️ Setup"
   ]
  },
  {
   "cell_type": "code",
   "execution_count": null,
   "id": "a2dac442",
   "metadata": {},
   "outputs": [],
   "source": [
    "\n",
    "!pip -q install --upgrade Pillow==10.4.0 numpy==2.0.2\n",
    "from PIL import Image, ImageDraw, ImageFont, ImageFilter, ImageOps, ImageDraw as _ID\n",
    "import numpy as np, io, os\n",
    "from google.colab import files\n",
    "from IPython.display import display\n",
    "os.makedirs(\"results\", exist_ok=True)\n",
    "\n",
    "# Pillow textsize shim\n",
    "def _compat_textsize(self, text, font=None, *args, **kwargs):\n",
    "    bbox = self.textbbox((0,0), text, font=font, *args, **kwargs)\n",
    "    return (bbox[2]-bbox[0], bbox[3]-bbox[1])\n",
    "if not hasattr(_ID.ImageDraw, \"textsize\"):\n",
    "    _ID.ImageDraw.textsize = _compat_textsize  # type: ignore[attr-defined]\n",
    "\n",
    "print(\"✅ Installed and shim ready\")\n"
   ]
  },
  {
   "cell_type": "markdown",
   "id": "1fdf7afd",
   "metadata": {},
   "source": [
    "## 📁 Upload 1–3 photos"
   ]
  },
  {
   "cell_type": "code",
   "execution_count": null,
   "id": "f8a5abf2",
   "metadata": {},
   "outputs": [],
   "source": [
    "\n",
    "uploaded = files.upload()\n",
    "imgs = []\n",
    "for k, v in uploaded.items():\n",
    "    imgs.append(Image.open(io.BytesIO(v)).convert(\"RGB\"))\n",
    "print(f\"Loaded {len(imgs)} images\")\n",
    "assert len(imgs) >= 1, \"Upload at least one image\"\n"
   ]
  },
  {
   "cell_type": "markdown",
   "id": "9a37d1f9",
   "metadata": {},
   "source": [
    "## 🖼️ Compose Poster"
   ]
  },
  {
   "cell_type": "code",
   "execution_count": null,
   "id": "dae72993",
   "metadata": {},
   "outputs": [],
   "source": [
    "\n",
    "TITLE = \"NEON NOODLES\"\n",
    "TAGLINE = \"A Night You Can Taste\"\n",
    "\n",
    "W, H = 1600, 2400\n",
    "canvas = Image.new('RGB', (W, H), (12,12,20))\n",
    "\n",
    "def place(img, box):\n",
    "    x,y,w,h = box\n",
    "    from PIL import ImageOps\n",
    "    im = ImageOps.fit(img, (w,h))\n",
    "    canvas.paste(im, (x,y))\n",
    "\n",
    "place(imgs[0], (int(W*0.05), int(H*0.18), int(W*0.9), int(H*0.55)))\n",
    "if len(imgs) > 1:\n",
    "    place(imgs[1], (int(W*0.05), int(H*0.75), int(W*0.42), int(H*0.2)))\n",
    "if len(imgs) > 2:\n",
    "    place(imgs[2], (int(W*0.53), int(H*0.75), int(W*0.42), int(H*0.2)))\n",
    "\n",
    "vig = Image.new('L', (W,H), 0)\n",
    "draw = ImageDraw.Draw(vig)\n",
    "draw.ellipse((-int(W*0.1), -int(H*0.05), int(W*1.1), int(H*1.1)), fill=255)\n",
    "vig = vig.filter(ImageFilter.GaussianBlur(radius=120))\n",
    "canvas = Image.composite(canvas, Image.new('RGB', (W,H), (0,0,0)), ImageOps.invert(vig))\n",
    "\n",
    "draw = ImageDraw.Draw(canvas)\n",
    "try:\n",
    "    title_font = ImageFont.truetype(\"DejaVuSans-Bold.ttf\", 160)\n",
    "    tag_font = ImageFont.truetype(\"DejaVuSans.ttf\", 64)\n",
    "except:\n",
    "    title_font = ImageFont.load_default(); tag_font = ImageFont.load_default()\n",
    "\n",
    "tw, th = draw.textsize(TITLE, font=title_font)\n",
    "draw.text(((W-tw)//2, int(H*0.06)), TITLE, font=title_font, fill=(240,240,255))\n",
    "\n",
    "draw.text((int(W*0.08), int(H*0.93)), TAGLINE, font=tag_font, fill=(230,230,230))\n",
    "\n",
    "draw.rectangle((0, H-120, W, H), fill=(10,10,18))\n",
    "credits = \"Directed by You • A Fun Production • © 2025\"\n",
    "cw, ch = draw.textsize(credits, font=tag_font)\n",
    "draw.text(((W-cw)//2, H-90), credits, font=tag_font, fill=(200,200,210))\n",
    "\n",
    "out = \"results/daily_movie_poster.png\"\n",
    "canvas.save(out)\n",
    "display(Image.open(out))\n",
    "print(\"✅ Saved\", out)\n"
   ]
  }
 ],
 "metadata": {},
 "nbformat": 4,
 "nbformat_minor": 5
}